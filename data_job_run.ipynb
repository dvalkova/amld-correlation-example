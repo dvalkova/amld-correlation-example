{
 "cells": [
  {
   "cell_type": "code",
   "execution_count": null,
   "id": "d698db5f-8caa-47e5-a053-76fde7bc0ebc",
   "metadata": {},
   "outputs": [],
   "source": [
    "!vdk create --cloud -n amld-correlation-example-job -t amld"
   ]
  },
  {
   "cell_type": "code",
   "execution_count": null,
   "id": "d698db5f-8caa-47e5-a053-76fde7bc0ebc",
   "metadata": {},
   "outputs": [],
   "source": [
    "!vdk run amld-correlation-example-job"
   ]
  },
  {
   "cell_type": "code",
   "execution_count": null,
   "id": "7d923528-2fc2-4380-b273-9a9ab5a011e3",
   "metadata": {},
   "outputs": [],
   "source": [
    "%load_ext sql"
   ]
  },
  {
   "cell_type": "code",
   "execution_count": null,
   "id": "7d923528-2fc2-4380-b273-9a9ab5a011e3",
   "metadata": {},
   "outputs": [],
   "source": [
    "%sql select * from mysql.default.covid_cases_usa_daily"
   ]
  },
  {
   "cell_type": "code",
   "execution_count": null,
   "id": "37480495-a611-4646-ac89-0cf9e370cf67",
   "metadata": {},
   "outputs": [],
   "source": [
    "!streamlit run build_streamlit_dashboard.py\n",
    "# Add \"/proxy/8501/\" to the URL to go to the Steramlit Web App \n",
    "# This will block the page until you click \"Interrupt the Kernel\""
   ]
  },
  {
   "cell_type": "code",
   "execution_count": null,
   "id": "8f4225a1",
   "metadata": {},
   "outputs": [],
   "source": []
  }
 ],
 "metadata": {
  "kernelspec": {
   "display_name": "Python 3 (ipykernel)",
   "language": "python",
   "name": "python3"
  },
  "language_info": {
   "codemirror_mode": {
    "name": "ipython",
    "version": 3
   },
   "file_extension": ".py",
   "mimetype": "text/x-python",
   "name": "python",
   "nbconvert_exporter": "python",
   "pygments_lexer": "ipython3",
   "version": "3.9.1"
  }
 },
 "nbformat": 4,
 "nbformat_minor": 5
}
